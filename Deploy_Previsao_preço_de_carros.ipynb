{
 "cells": [
  {
   "cell_type": "markdown",
   "id": "19b499be",
   "metadata": {},
   "source": [
    "### Deploy_Previsao_preço_de_carros\n",
    "\n",
    "- Aqui criaremos o arquivo da tela onde o usuário irá colocar as informações do carro  para no final prever o preço.\n"
   ]
  },
  {
   "cell_type": "markdown",
   "id": "4fe648bf",
   "metadata": {},
   "source": [
    "### Organizando os nomes das colunas"
   ]
  },
  {
   "cell_type": "code",
   "execution_count": 1,
   "id": "99cdde28",
   "metadata": {},
   "outputs": [],
   "source": [
    "import pandas as pd\n",
    "import streamlit as st\n",
    "import joblib"
   ]
  },
  {
   "cell_type": "code",
   "execution_count": 2,
   "id": "52e42908",
   "metadata": {},
   "outputs": [
    {
     "name": "stdout",
     "output_type": "stream",
     "text": [
      "{'Fabricante': ['Acura', 'Audi', 'BMW', 'Buick', 'Cadillac', 'Chevrolet', 'Chrysler', 'Dodge', 'Ford', 'GMC', 'Honda', 'Hyundai', 'Infiniti', 'Kia', 'Lexus', 'Lincoln', 'Mazda', 'Mercedes-Benz', 'Mitsubishi', 'Nissan', 'Oldsmobile', 'Outros', 'Pontiac', 'Saab', 'Subaru', 'Suzuki', 'Toyota', 'Volkswagen', 'Volvo'], 'Tipo de Combustivel': ['Flex', 'Gas Natural', 'Gasolina', 'diesel'], 'Tipo Transmissão': ['Automático', 'Automático e Manual', 'MANUAL'], 'Tração': ['tracao dianteira', 'tracao em 4 rodas', 'tracao traseira'], 'Tamanho Veículo': ['Grande', 'Medio', 'Pequeno'], 'Estilo Veículo': ['Conversível', 'Cupê', 'Hatchback de 2 portas', 'Hatchback de 4 portas', 'Minivan de Passageiros', 'Outros', 'Perua', 'Picape Cabine Dupla', 'Picape Cabine Estendida', 'Picape Cabine Simples', 'SUV de 4 portas', 'Sedã']}\n",
      "----------------------------------------\n",
      "{'Ano': 0, 'Motor HP': 0, 'Nº de Cilindros': 0, 'Nº de Portas': 0, 'KM/L Estrada': 0, 'KM/L Cidade': 0}\n"
     ]
    }
   ],
   "source": [
    "colunas = ['Ano',\n",
    "'Motor HP',\n",
    "'Nº de Cilindros',\n",
    "'Nº de Portas',\n",
    "'KM/L Estrada',\n",
    "'KM/L Cidade',\n",
    "'Preço Sugerido Fabricante',\n",
    "'Fabricante_Acura',\n",
    "'Fabricante_Audi',\n",
    "'Fabricante_BMW',\n",
    "'Fabricante_Buick',\n",
    "'Fabricante_Cadillac',\n",
    "'Fabricante_Chevrolet',\n",
    "'Fabricante_Chrysler',\n",
    "'Fabricante_Dodge',\n",
    "'Fabricante_Ford',\n",
    "'Fabricante_GMC',\n",
    "'Fabricante_Honda',\n",
    "'Fabricante_Hyundai',\n",
    "'Fabricante_Infiniti',\n",
    "'Fabricante_Kia',\n",
    "'Fabricante_Lexus',\n",
    "'Fabricante_Lincoln',\n",
    "'Fabricante_Mazda',\n",
    "'Fabricante_Mercedes-Benz',\n",
    "'Fabricante_Mitsubishi',\n",
    "'Fabricante_Nissan',\n",
    "'Fabricante_Oldsmobile',\n",
    "'Fabricante_Outros',\n",
    "'Fabricante_Pontiac',\n",
    "'Fabricante_Saab',\n",
    "'Fabricante_Subaru',\n",
    "'Fabricante_Suzuki',\n",
    "'Fabricante_Toyota',\n",
    "'Fabricante_Volkswagen',\n",
    "'Fabricante_Volvo',\n",
    "'Tipo de Combustivel_Flex',\n",
    "'Tipo de Combustivel_Gas Natural',\n",
    "'Tipo de Combustivel_Gasolina',\n",
    "'Tipo de Combustivel_diesel',\n",
    "'Tipo Transmissão_Automático',\n",
    "'Tipo Transmissão_Automático e Manual',\n",
    "'Tipo Transmissão_MANUAL',\n",
    "'Tração_tracao dianteira',\n",
    "'Tração_tracao em 4 rodas',\n",
    "'Tração_tracao traseira',\n",
    "'Tamanho Veículo_Grande',\n",
    "'Tamanho Veículo_Medio',\n",
    "'Tamanho Veículo_Pequeno',\n",
    "'Estilo Veículo_Conversível',\n",
    "'Estilo Veículo_Cupê',\n",
    "'Estilo Veículo_Hatchback de 2 portas',\n",
    "'Estilo Veículo_Hatchback de 4 portas',\n",
    "'Estilo Veículo_Minivan de Passageiros',\n",
    "'Estilo Veículo_Outros',\n",
    "'Estilo Veículo_Perua',\n",
    "'Estilo Veículo_Picape Cabine Dupla',\n",
    "'Estilo Veículo_Picape Cabine Estendida',\n",
    "'Estilo Veículo_Picape Cabine Simples',\n",
    "'Estilo Veículo_SUV de 4 portas',\n",
    "'Estilo Veículo_Sedã',]\n",
    "\n",
    "\n",
    "x_listas = {}\n",
    "x_numericos = {}\n",
    "\n",
    "for item in colunas:\n",
    "    if 'Fabricante' in item:\n",
    "        x_listas.setdefault('Fabricante', []).append(item.replace('Fabricante_', ''))\n",
    "    elif 'Tipo de Combustivel' in item:\n",
    "        x_listas.setdefault('Tipo de Combustivel', []).append(item.replace('Tipo de Combustivel_', ''))\n",
    "    elif 'Tipo Transmissão' in item:\n",
    "        x_listas.setdefault('Tipo Transmissão', []).append(item.replace('Tipo Transmissão_', ''))  \n",
    "    elif 'Tração' in item:\n",
    "        x_listas.setdefault('Tração', []).append(item.replace('Tração_', ''))   \n",
    "    elif 'Tamanho Veículo' in item:\n",
    "        x_listas.setdefault('Tamanho Veículo', []).append(item.replace('Tamanho Veículo_', ''))\n",
    "    elif 'Estilo Veículo' in item:\n",
    "        x_listas.setdefault('Estilo Veículo', []).append(item.replace('Estilo Veículo_', ''))\n",
    "    else:\n",
    "        x_numericos[item] = 0\n",
    "del x_listas['Fabricante'][0]\n",
    "print(x_listas)\n",
    "print('--'* 20)\n",
    "print(x_numericos)\n"
   ]
  },
  {
   "cell_type": "code",
   "execution_count": 3,
   "id": "82e30466",
   "metadata": {},
   "outputs": [
    {
     "name": "stderr",
     "output_type": "stream",
     "text": [
      "2023-07-10 10:45:33.399 \n",
      "  \u001b[33m\u001b[1mWarning:\u001b[0m to view this Streamlit app on a browser, run it with the following\n",
      "  command:\n",
      "\n",
      "    streamlit run C:\\Users\\AndersonPC\\anaconda3\\lib\\site-packages\\ipykernel_launcher.py [ARGUMENTS]\n"
     ]
    }
   ],
   "source": [
    "dicionario = {} # criou um dicionario vazio para editar as variaveis dummies de x_listas\n",
    "for item in x_listas:\n",
    "    for valor in x_listas[item]:\n",
    "        dicionario[f'{item}_{valor}'] = 0 # usou o for para concatenar o nome de cada item de x_listas com o valor de cada item\n",
    "\n",
    "for item in x_numericos:\n",
    "    valor = st.number_input(f'{item}', step=1, value=0)\n",
    "    x_numericos[item] = valor\n",
    "    \n",
    "for item in x_listas:\n",
    "    valor = st.selectbox(f'{item}', x_listas[item])\n",
    "    dicionario[f'{item}_{valor}'] = 1\n",
    "    \n",
    "botao = st.button('Prever valor do carro')\n",
    "\n",
    "if botao:\n",
    "    dicionario.update(x_numericos)\n",
    "    valores_x = pd.DataFrame(dicionario, index=[0]) \n",
    "    dados = pd.read_csv('dados.csv') \n",
    "    colunas = list(dados.columns)[1:-1]\n",
    "    valores_x = valores_x[colunas]\n",
    "    modelo = joblib.load('modelo.joblib')\n",
    "    preco = modelo.predict(valores_x) \n",
    "    st.write(preco[0])\n",
    "\n",
    "\n",
    "\n",
    "    \n",
    "    \n",
    "    "
   ]
  },
  {
   "cell_type": "markdown",
   "id": "cd33eb2d",
   "metadata": {},
   "source": [
    "Após rodar todos os códigos acima , é necessario clicar em file, Download as, Python.(py). Porém este procedimento ja foi feito e o arquivo encontra-se neste projeto como 'Deploy_Previsao_preço_de_carros.py' e é este arquivo que abrirá uma tela no navegador para que se possa colocar as caracteristicas do carro para prever o seu preço.\n",
    "\n",
    "Para chegar nesta tela, siga o passo a passo:\n",
    "\n",
    "\n",
    "1 - abra no seu computador o Anaconda Prompt.\n",
    "\n",
    "2 - execute o comando: cd C:\\Users\\AndersonPC\\Documents\\GitHub\\Projeto_Previsao_preco_de_carros\n",
    "Observação: no passo 2 você deve colocar o caminho exato da pasta onde está o seu projeto. No meu caso está desta forma , mas no seu estará diferente.\n",
    "\n",
    "3 - execute o comando: streamlit run  Deploy_Previsao_preço_de_carros.py\n",
    "\n",
    "4 - Abrirá uma aba no seu navegador, basta colocar as informações do carro  e clicar no botão 'Prever valor do carro'.\n"
   ]
  }
 ],
 "metadata": {
  "kernelspec": {
   "display_name": "Python 3 (ipykernel)",
   "language": "python",
   "name": "python3"
  },
  "language_info": {
   "codemirror_mode": {
    "name": "ipython",
    "version": 3
   },
   "file_extension": ".py",
   "mimetype": "text/x-python",
   "name": "python",
   "nbconvert_exporter": "python",
   "pygments_lexer": "ipython3",
   "version": "3.9.13"
  }
 },
 "nbformat": 4,
 "nbformat_minor": 5
}
